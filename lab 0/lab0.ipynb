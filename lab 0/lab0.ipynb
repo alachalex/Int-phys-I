{
 "cells": [
  {
   "cell_type": "code",
   "execution_count": 38,
   "metadata": {},
   "outputs": [],
   "source": [
    "import numpy as np\n",
    "import pandas as pd\n",
    "import matplotlib.pyplot as plt\n",
    "%matplotlib inline"
   ]
  },
  {
   "cell_type": "code",
   "execution_count": 39,
   "metadata": {
    "scrolled": true
   },
   "outputs": [
    {
     "name": "stdout",
     "output_type": "stream",
     "text": [
      "    Temperature (C)   Temperature Error (C)   Pressure (kPa)  \\\n",
      "0            -205.0                     3.7             31.3   \n",
      "1             -57.7                     5.8             78.3   \n",
      "2               3.7                     7.1            100.0   \n",
      "3              20.8                     5.0            100.3   \n",
      "4             104.3                     5.3            130.2   \n",
      "5            -182.4                     4.5             41.1   \n",
      "6             -65.4                     4.7             81.2   \n",
      "7               4.7                     3.3             95.0   \n",
      "8              11.7                     5.1             82.2   \n",
      "9             101.7                     5.2            127.6   \n",
      "10           -199.6                     4.7             22.7   \n",
      "11            -51.4                     5.1             65.8   \n",
      "12             -4.3                     4.6             86.5   \n",
      "13             22.6                     6.3            115.4   \n",
      "14             93.7                     4.9            133.9   \n",
      "15           -207.8                     5.3             10.8   \n",
      "16            -55.8                     6.0             65.3   \n",
      "17              8.7                     5.2             96.8   \n",
      "18             22.6                     5.4            118.3   \n",
      "19             95.0                     3.2            121.3   \n",
      "20           -195.7                     4.8             43.7   \n",
      "21            -54.2                     6.9             73.7   \n",
      "22              6.0                     5.4             82.7   \n",
      "23             14.2                     6.0            112.3   \n",
      "24            103.5                     5.4            150.8   \n",
      "\n",
      "     Pressure Error (kPa)  \n",
      "0                    15.6  \n",
      "1                     7.8  \n",
      "2                     7.6  \n",
      "3                    12.0  \n",
      "4                    12.4  \n",
      "5                    11.0  \n",
      "6                    10.9  \n",
      "7                     8.0  \n",
      "8                    13.1  \n",
      "9                    10.1  \n",
      "10                   11.5  \n",
      "11                    8.6  \n",
      "12                   16.2  \n",
      "13                    8.7  \n",
      "14                   10.5  \n",
      "15                    6.7  \n",
      "16                    7.6  \n",
      "17                    9.9  \n",
      "18                    7.5  \n",
      "19                   10.4  \n",
      "20                    7.5  \n",
      "21                   10.4  \n",
      "22                   10.1  \n",
      "23                   13.7  \n",
      "24                    8.5  \n"
     ]
    }
   ],
   "source": [
    "obj = pd.read_csv('lab0.csv')\n",
    "print(obj)"
   ]
  },
  {
   "cell_type": "code",
   "execution_count": 40,
   "metadata": {},
   "outputs": [
    {
     "data": {
      "text/html": [
       "<div>\n",
       "<style scoped>\n",
       "    .dataframe tbody tr th:only-of-type {\n",
       "        vertical-align: middle;\n",
       "    }\n",
       "\n",
       "    .dataframe tbody tr th {\n",
       "        vertical-align: top;\n",
       "    }\n",
       "\n",
       "    .dataframe thead th {\n",
       "        text-align: right;\n",
       "    }\n",
       "</style>\n",
       "<table border=\"1\" class=\"dataframe\">\n",
       "  <thead>\n",
       "    <tr style=\"text-align: right;\">\n",
       "      <th></th>\n",
       "      <th>Temperature (C)</th>\n",
       "      <th>Temperature Error (C)</th>\n",
       "      <th>Pressure (kPa)</th>\n",
       "      <th>Pressure Error (kPa)</th>\n",
       "    </tr>\n",
       "  </thead>\n",
       "  <tbody>\n",
       "    <tr>\n",
       "      <td>0</td>\n",
       "      <td>-205.0</td>\n",
       "      <td>3.7</td>\n",
       "      <td>31.3</td>\n",
       "      <td>15.6</td>\n",
       "    </tr>\n",
       "    <tr>\n",
       "      <td>1</td>\n",
       "      <td>-57.7</td>\n",
       "      <td>5.8</td>\n",
       "      <td>78.3</td>\n",
       "      <td>7.8</td>\n",
       "    </tr>\n",
       "    <tr>\n",
       "      <td>2</td>\n",
       "      <td>3.7</td>\n",
       "      <td>7.1</td>\n",
       "      <td>100.0</td>\n",
       "      <td>7.6</td>\n",
       "    </tr>\n",
       "    <tr>\n",
       "      <td>3</td>\n",
       "      <td>20.8</td>\n",
       "      <td>5.0</td>\n",
       "      <td>100.3</td>\n",
       "      <td>12.0</td>\n",
       "    </tr>\n",
       "    <tr>\n",
       "      <td>4</td>\n",
       "      <td>104.3</td>\n",
       "      <td>5.3</td>\n",
       "      <td>130.2</td>\n",
       "      <td>12.4</td>\n",
       "    </tr>\n",
       "  </tbody>\n",
       "</table>\n",
       "</div>"
      ],
      "text/plain": [
       "   Temperature (C)   Temperature Error (C)   Pressure (kPa)  \\\n",
       "0           -205.0                     3.7             31.3   \n",
       "1            -57.7                     5.8             78.3   \n",
       "2              3.7                     7.1            100.0   \n",
       "3             20.8                     5.0            100.3   \n",
       "4            104.3                     5.3            130.2   \n",
       "\n",
       "    Pressure Error (kPa)  \n",
       "0                   15.6  \n",
       "1                    7.8  \n",
       "2                    7.6  \n",
       "3                   12.0  \n",
       "4                   12.4  "
      ]
     },
     "execution_count": 40,
     "metadata": {},
     "output_type": "execute_result"
    }
   ],
   "source": [
    "obj.head()"
   ]
  },
  {
   "cell_type": "code",
   "execution_count": 41,
   "metadata": {},
   "outputs": [
    {
     "data": {
      "text/plain": [
       "Text(0, 0.5, 'Pressure (kPa)')"
      ]
     },
     "execution_count": 41,
     "metadata": {},
     "output_type": "execute_result"
    },
    {
     "data": {
      "image/png": "[encoded data removed]",
      "text/plain": [
       "<Figure size 432x288 with 1 Axes>"
      ]
     },
     "metadata": {
      "needs_background": "light"
     },
     "output_type": "display_data"
    }
   ],
   "source": [
    "y = obj[' Pressure (kPa)'].values\n",
    "x = obj[\"Temperature (C)\"].values\n",
    "plt.plot(x,y,\"o\")\n",
    "plt.title(\"Temperature vs Pressure\")\n",
    "plt.xlabel(\"Temperature (C)\")\n",
    "plt.ylabel(\"Pressure (kPa)\")"
   ]
  },
  {
   "cell_type": "code",
   "execution_count": 42,
   "metadata": {},
   "outputs": [
    {
     "name": "stdout",
     "output_type": "stream",
     "text": [
      "m =  0.34673182435767513  ; b =  95.9263227281859\n"
     ]
    },
    {
     "data": {
      "image/png": "[encoded data removed]",
      "text/plain": [
       "<Figure size 432x288 with 1 Axes>"
      ]
     },
     "metadata": {
      "needs_background": "light"
     },
     "output_type": "display_data"
    }
   ],
   "source": [
    "y = obj[' Pressure (kPa)'].values\n",
    "x = obj[\"Temperature (C)\"].values\n",
    "plt.plot(x,y,\"o\")\n",
    "m, b = np.polyfit(x, y, 1)\n",
    "plt.plot(x, m*x + b)\n",
    "plt.title(\"Temperature vs Pressure with Linear Least Squares\")\n",
    "plt.xlabel(\"Temperature (C)\")\n",
    "plt.ylabel(\"Pressure (kPa)\")\n",
    "print(\"m = \", m, \" ; b = \", b)"
   ]
  },
  {
   "cell_type": "code",
   "execution_count": 43,
   "metadata": {},
   "outputs": [
    {
     "data": {
      "text/plain": [
       "Text(0, 0.5, 'Pressure (kPa)')"
      ]
     },
     "execution_count": 43,
     "metadata": {},
     "output_type": "execute_result"
    },
    {
     "data": {
      "image/png": "[encoded data removed]",
      "text/plain": [
       "<Figure size 432x288 with 1 Axes>"
      ]
     },
     "metadata": {
      "needs_background": "light"
     },
     "output_type": "display_data"
    }
   ],
   "source": [
    "y = obj[' Pressure (kPa)'].values\n",
    "x = obj[\"Temperature (C)\"].values\n",
    "y_e = obj[' Temperature Error (C)'].values\n",
    "x_e = obj[' Pressure Error (kPa)'].values\n",
    "plt.plot(x,y,\"o\")\n",
    "plt.errorbar(x,y,xerr=x_e, yerr=y_e, fmt =\".-\",ls='none')\n",
    "plt.title(\"Temperature vs Pressure with Error\")\n",
    "plt.xlabel(\"Temperature (C)\")\n",
    "plt.ylabel(\"Pressure (kPa)\")"
   ]
  },
  {
   "cell_type": "code",
   "execution_count": 44,
   "metadata": {},
   "outputs": [
    {
     "name": "stdout",
     "output_type": "stream",
     "text": [
      "Chi Slope (m) =  0.3613158828679369  ; Chi intercept (b) =  96.84026304420009\n"
     ]
    },
    {
     "data": {
      "image/png": "[encoded data removed]",
      "text/plain": [
       "<Figure size 432x288 with 1 Axes>"
      ]
     },
     "metadata": {
      "needs_background": "light"
     },
     "output_type": "display_data"
    }
   ],
   "source": [
    "y = obj[' Pressure (kPa)'].values\n",
    "x = obj[\"Temperature (C)\"].values\n",
    "y_e = obj[' Temperature Error (C)'].values\n",
    "x_e = obj[' Pressure Error (kPa)'].values\n",
    "plt.plot(x,y,\"o\")\n",
    "plt.errorbar(x,y,xerr=x_e, yerr=y_e, fmt = \".-\",ls='none')\n",
    "mc, bc = np.polyfit(x,y,1,w=1/(x_e))\n",
    "plt.plot(x,(mc*x+bc))\n",
    "plt.title(\"Temperature vs Pressure with Chi Squared Fit\")\n",
    "plt.xlabel(\"Temperature (C)\")\n",
    "plt.ylabel(\"Pressure (kPa)\")\n",
    "print(\"Chi Slope (m) = \", mc, \" ; Chi intercept (b) = \", bc)"
   ]
  },
  {
   "cell_type": "code",
   "execution_count": null,
   "metadata": {},
   "outputs": [],
   "source": []
  }
 ],
 "metadata": {
  "kernelspec": {
   "display_name": "Python 3",
   "language": "python",
   "name": "python3"
  },
  "language_info": {
   "codemirror_mode": {
    "name": "ipython",
    "version": 3
   },
   "file_extension": ".py",
   "mimetype": "text/x-python",
   "name": "python",
   "nbconvert_exporter": "python",
   "pygments_lexer": "ipython3",
   "version": "3.8.5"
  }
 },
 "nbformat": 4,
 "nbformat_minor": 2
}
