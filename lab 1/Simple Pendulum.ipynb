{
 "cells": [
  {
   "cell_type": "code",
   "execution_count": 3,
   "metadata": {},
   "outputs": [],
   "source": [
    "import numpy as np\n",
    "import pandas as pd\n",
    "import matplotlib.pyplot as plt\n",
    "%matplotlib inline\n",
    "obj = pd.read_csv('1.csv')"
   ]
  },
  {
   "cell_type": "code",
   "execution_count": 2,
   "metadata": {},
   "outputs": [
    {
     "data": {
      "text/html": [
       "<div>\n",
       "<style scoped>\n",
       "    .dataframe tbody tr th:only-of-type {\n",
       "        vertical-align: middle;\n",
       "    }\n",
       "\n",
       "    .dataframe tbody tr th {\n",
       "        vertical-align: top;\n",
       "    }\n",
       "\n",
       "    .dataframe thead th {\n",
       "        text-align: right;\n",
       "    }\n",
       "</style>\n",
       "<table border=\"1\" class=\"dataframe\">\n",
       "  <thead>\n",
       "    <tr style=\"text-align: right;\">\n",
       "      <th></th>\n",
       "      <th>mass (g) Set</th>\n",
       "      <th>Date and Time Run #1</th>\n",
       "      <th>Time (s) Run #1</th>\n",
       "      <th>State Run #1</th>\n",
       "      <th>Block Event Times (s) Run #1</th>\n",
       "      <th>Period (s) Run #1</th>\n",
       "      <th>Block-to-Block Times (s) Run #1</th>\n",
       "      <th>Speed (m/s) Run #1</th>\n",
       "      <th>Time in Gate (s) Run #1</th>\n",
       "      <th>Date and Time Run #2</th>\n",
       "      <th>...</th>\n",
       "      <th>Speed (m/s) Run #3</th>\n",
       "      <th>Time in Gate (s) Run #3</th>\n",
       "      <th>Date and Time Run #4</th>\n",
       "      <th>Time (s) Run #4</th>\n",
       "      <th>State Run #4</th>\n",
       "      <th>Block Event Times (s) Run #4</th>\n",
       "      <th>Period (s) Run #4</th>\n",
       "      <th>Block-to-Block Times (s) Run #4</th>\n",
       "      <th>Speed (m/s) Run #4</th>\n",
       "      <th>Time in Gate (s) Run #4</th>\n",
       "    </tr>\n",
       "  </thead>\n",
       "  <tbody>\n",
       "    <tr>\n",
       "      <td>0</td>\n",
       "      <td>200.0</td>\n",
       "      <td>09/23/2020 01:58:32 pm</td>\n",
       "      <td>1.450</td>\n",
       "      <td>0.0</td>\n",
       "      <td>NaN</td>\n",
       "      <td>NaN</td>\n",
       "      <td>NaN</td>\n",
       "      <td>NaN</td>\n",
       "      <td>NaN</td>\n",
       "      <td>09/23/2020 02:03:35 pm</td>\n",
       "      <td>...</td>\n",
       "      <td>NaN</td>\n",
       "      <td>NaN</td>\n",
       "      <td>09/23/2020 02:09:22 pm</td>\n",
       "      <td>0.038</td>\n",
       "      <td>1.0</td>\n",
       "      <td>0.04</td>\n",
       "      <td>NaN</td>\n",
       "      <td>NaN</td>\n",
       "      <td>NaN</td>\n",
       "      <td>NaN</td>\n",
       "    </tr>\n",
       "    <tr>\n",
       "      <td>1</td>\n",
       "      <td>200.0</td>\n",
       "      <td>09/23/2020 01:58:33 pm</td>\n",
       "      <td>2.342</td>\n",
       "      <td>1.0</td>\n",
       "      <td>2.34</td>\n",
       "      <td>NaN</td>\n",
       "      <td>NaN</td>\n",
       "      <td>NaN</td>\n",
       "      <td>NaN</td>\n",
       "      <td>09/23/2020 02:03:36 pm</td>\n",
       "      <td>...</td>\n",
       "      <td>NaN</td>\n",
       "      <td>NaN</td>\n",
       "      <td>09/23/2020 02:09:22 pm</td>\n",
       "      <td>0.612</td>\n",
       "      <td>0.0</td>\n",
       "      <td>NaN</td>\n",
       "      <td>NaN</td>\n",
       "      <td>NaN</td>\n",
       "      <td>0.03</td>\n",
       "      <td>0.57</td>\n",
       "    </tr>\n",
       "    <tr>\n",
       "      <td>2</td>\n",
       "      <td>200.0</td>\n",
       "      <td>09/23/2020 01:58:33 pm</td>\n",
       "      <td>2.448</td>\n",
       "      <td>0.0</td>\n",
       "      <td>NaN</td>\n",
       "      <td>NaN</td>\n",
       "      <td>NaN</td>\n",
       "      <td>0.15</td>\n",
       "      <td>0.11</td>\n",
       "      <td>09/23/2020 02:03:36 pm</td>\n",
       "      <td>...</td>\n",
       "      <td>0.03</td>\n",
       "      <td>0.64</td>\n",
       "      <td>09/23/2020 02:09:23 pm</td>\n",
       "      <td>1.372</td>\n",
       "      <td>1.0</td>\n",
       "      <td>1.37</td>\n",
       "      <td>NaN</td>\n",
       "      <td>1.33</td>\n",
       "      <td>NaN</td>\n",
       "      <td>NaN</td>\n",
       "    </tr>\n",
       "    <tr>\n",
       "      <td>3</td>\n",
       "      <td>200.0</td>\n",
       "      <td>09/23/2020 01:58:34 pm</td>\n",
       "      <td>3.264</td>\n",
       "      <td>1.0</td>\n",
       "      <td>3.26</td>\n",
       "      <td>NaN</td>\n",
       "      <td>0.92</td>\n",
       "      <td>NaN</td>\n",
       "      <td>NaN</td>\n",
       "      <td>09/23/2020 02:03:37 pm</td>\n",
       "      <td>...</td>\n",
       "      <td>NaN</td>\n",
       "      <td>NaN</td>\n",
       "      <td>09/23/2020 02:09:23 pm</td>\n",
       "      <td>1.915</td>\n",
       "      <td>0.0</td>\n",
       "      <td>NaN</td>\n",
       "      <td>NaN</td>\n",
       "      <td>NaN</td>\n",
       "      <td>0.03</td>\n",
       "      <td>0.54</td>\n",
       "    </tr>\n",
       "    <tr>\n",
       "      <td>4</td>\n",
       "      <td>200.0</td>\n",
       "      <td>09/23/2020 01:58:34 pm</td>\n",
       "      <td>3.370</td>\n",
       "      <td>0.0</td>\n",
       "      <td>NaN</td>\n",
       "      <td>NaN</td>\n",
       "      <td>NaN</td>\n",
       "      <td>0.15</td>\n",
       "      <td>0.11</td>\n",
       "      <td>09/23/2020 02:03:37 pm</td>\n",
       "      <td>...</td>\n",
       "      <td>0.74</td>\n",
       "      <td>0.02</td>\n",
       "      <td>09/23/2020 02:09:24 pm</td>\n",
       "      <td>2.039</td>\n",
       "      <td>1.0</td>\n",
       "      <td>2.04</td>\n",
       "      <td>2.0</td>\n",
       "      <td>0.67</td>\n",
       "      <td>NaN</td>\n",
       "      <td>NaN</td>\n",
       "    </tr>\n",
       "  </tbody>\n",
       "</table>\n",
       "<p>5 rows × 33 columns</p>\n",
       "</div>"
      ],
      "text/plain": [
       "   mass (g) Set    Date and Time Run #1  Time (s) Run #1  State Run #1  \\\n",
       "0         200.0  09/23/2020 01:58:32 pm            1.450           0.0   \n",
       "1         200.0  09/23/2020 01:58:33 pm            2.342           1.0   \n",
       "2         200.0  09/23/2020 01:58:33 pm            2.448           0.0   \n",
       "3         200.0  09/23/2020 01:58:34 pm            3.264           1.0   \n",
       "4         200.0  09/23/2020 01:58:34 pm            3.370           0.0   \n",
       "\n",
       "   Block Event Times (s) Run #1  Period (s) Run #1  \\\n",
       "0                           NaN                NaN   \n",
       "1                          2.34                NaN   \n",
       "2                           NaN                NaN   \n",
       "3                          3.26                NaN   \n",
       "4                           NaN                NaN   \n",
       "\n",
       "   Block-to-Block Times (s) Run #1  Speed (m/s) Run #1  \\\n",
       "0                              NaN                 NaN   \n",
       "1                              NaN                 NaN   \n",
       "2                              NaN                0.15   \n",
       "3                             0.92                 NaN   \n",
       "4                              NaN                0.15   \n",
       "\n",
       "   Time in Gate (s) Run #1    Date and Time Run #2  ...  Speed (m/s) Run #3  \\\n",
       "0                      NaN  09/23/2020 02:03:35 pm  ...                 NaN   \n",
       "1                      NaN  09/23/2020 02:03:36 pm  ...                 NaN   \n",
       "2                     0.11  09/23/2020 02:03:36 pm  ...                0.03   \n",
       "3                      NaN  09/23/2020 02:03:37 pm  ...                 NaN   \n",
       "4                     0.11  09/23/2020 02:03:37 pm  ...                0.74   \n",
       "\n",
       "   Time in Gate (s) Run #3    Date and Time Run #4  Time (s) Run #4  \\\n",
       "0                      NaN  09/23/2020 02:09:22 pm            0.038   \n",
       "1                      NaN  09/23/2020 02:09:22 pm            0.612   \n",
       "2                     0.64  09/23/2020 02:09:23 pm            1.372   \n",
       "3                      NaN  09/23/2020 02:09:23 pm            1.915   \n",
       "4                     0.02  09/23/2020 02:09:24 pm            2.039   \n",
       "\n",
       "   State Run #4  Block Event Times (s) Run #4  Period (s) Run #4  \\\n",
       "0           1.0                          0.04                NaN   \n",
       "1           0.0                           NaN                NaN   \n",
       "2           1.0                          1.37                NaN   \n",
       "3           0.0                           NaN                NaN   \n",
       "4           1.0                          2.04                2.0   \n",
       "\n",
       "  Block-to-Block Times (s) Run #4  Speed (m/s) Run #4  Time in Gate (s) Run #4  \n",
       "0                             NaN                 NaN                      NaN  \n",
       "1                             NaN                0.03                     0.57  \n",
       "2                            1.33                 NaN                      NaN  \n",
       "3                             NaN                0.03                     0.54  \n",
       "4                            0.67                 NaN                      NaN  \n",
       "\n",
       "[5 rows x 33 columns]"
      ]
     },
     "execution_count": 2,
     "metadata": {},
     "output_type": "execute_result"
    }
   ],
   "source": [
    "obj.head()"
   ]
  },
  {
   "cell_type": "code",
   "execution_count": 11,
   "metadata": {},
   "outputs": [
    {
     "name": "stdout",
     "output_type": "stream",
     "text": [
      "1.8222222222222224\n"
     ]
    },
    {
     "data": {
      "image/png": "[encoded data removed]",
      "text/plain": [
       "<Figure size 432x288 with 1 Axes>"
      ]
     },
     "metadata": {
      "needs_background": "light"
     },
     "output_type": "display_data"
    }
   ],
   "source": [
    "#200 grams\n",
    "x1 = obj[\"Time (s) Run #1\"]\n",
    "y1 = obj[\"Block-to-Block Times (s) Run #1\"]\n",
    "t1 = obj[\"Period (s) Run #1\"]\n",
    "avg_t = t1.mean(axis =0)\n",
    "plt.plot(x1,y1,\"ro\")\n",
    "plt.title(\"Time vs Block-to-Block Times 200g\")\n",
    "plt.xlabel(\"Time (s)\")\n",
    "plt.ylabel(\"Block-to-Block Times\")\n",
    "print(avg_t)"
   ]
  },
  {
   "cell_type": "code",
   "execution_count": 14,
   "metadata": {},
   "outputs": [
    {
     "name": "stdout",
     "output_type": "stream",
     "text": [
      "1.82\n"
     ]
    },
    {
     "data": {
      "image/png": "[encoded data removed]",
      "text/plain": [
       "<Figure size 432x288 with 1 Axes>"
      ]
     },
     "metadata": {
      "needs_background": "light"
     },
     "output_type": "display_data"
    }
   ],
   "source": [
    "#50 grams\n",
    "x2 = obj[\"Time (s) Run #2\"]\n",
    "y2 = obj[\"Block-to-Block Times (s) Run #2\"]\n",
    "t2 = obj[\"Period (s) Run #2\"]\n",
    "avg_t2 = t2.mean(axis =0)\n",
    "plt.plot(x2,y2,\"ro\")\n",
    "plt.title(\"Time vs Block-to-Block Times 50g\")\n",
    "plt.xlabel(\"Time (s)\")\n",
    "plt.ylabel(\"Block-to-Block Times\")\n",
    "print(avg_t2)"
   ]
  },
  {
   "cell_type": "code",
   "execution_count": 16,
   "metadata": {},
   "outputs": [
    {
     "name": "stdout",
     "output_type": "stream",
     "text": [
      "1.3136363636363642\n"
     ]
    },
    {
     "data": {
      "image/png": "[encoded data removed]",
      "text/plain": [
       "<Figure size 432x288 with 1 Axes>"
      ]
     },
     "metadata": {
      "needs_background": "light"
     },
     "output_type": "display_data"
    }
   ],
   "source": [
    "#shorter length\n",
    "x3 = obj[\"Time (s) Run #3\"]\n",
    "y3 = obj[\"Block-to-Block Times (s) Run #3\"]\n",
    "t3 = obj[\"Period (s) Run #3\"]\n",
    "avg_t3 = t3.mean(axis =0)\n",
    "plt.plot(x3,y3,\"ro\")\n",
    "plt.title(\"Time vs Block-to-Block Times 38cm\")\n",
    "plt.xlabel(\"Time (s)\")\n",
    "plt.ylabel(\"Block-to-Block Times\")\n",
    "print(avg_t3)"
   ]
  },
  {
   "cell_type": "code",
   "execution_count": null,
   "metadata": {},
   "outputs": [],
   "source": []
  }
 ],
 "metadata": {
  "kernelspec": {
   "display_name": "Python 3",
   "language": "python",
   "name": "python3"
  },
  "language_info": {
   "codemirror_mode": {
    "name": "ipython",
    "version": 3
   },
   "file_extension": ".py",
   "mimetype": "text/x-python",
   "name": "python",
   "nbconvert_exporter": "python",
   "pygments_lexer": "ipython3",
   "version": "3.7.4"
  }
 },
 "nbformat": 4,
 "nbformat_minor": 2
}
