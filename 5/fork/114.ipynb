{
 "cells": [
  {
   "cell_type": "code",
   "execution_count": 11,
   "metadata": {},
   "outputs": [
    {
     "data": {
      "text/html": [
       "<div>\n",
       "<style scoped>\n",
       "    .dataframe tbody tr th:only-of-type {\n",
       "        vertical-align: middle;\n",
       "    }\n",
       "\n",
       "    .dataframe tbody tr th {\n",
       "        vertical-align: top;\n",
       "    }\n",
       "\n",
       "    .dataframe thead th {\n",
       "        text-align: right;\n",
       "    }\n",
       "</style>\n",
       "<table border=\"1\" class=\"dataframe\">\n",
       "  <thead>\n",
       "    <tr style=\"text-align: right;\">\n",
       "      <th></th>\n",
       "      <th>Time (s) Run #1</th>\n",
       "      <th>Voltage</th>\n",
       "      <th>Ch A (V) Run #1</th>\n",
       "      <th>Output Voltage</th>\n",
       "      <th>Ch O1 (V) Run #1</th>\n",
       "      <th>Output Current</th>\n",
       "      <th>Ch O1 (A) Run #1</th>\n",
       "    </tr>\n",
       "  </thead>\n",
       "  <tbody>\n",
       "    <tr>\n",
       "      <td>0</td>\n",
       "      <td>0.000</td>\n",
       "      <td>0.000247</td>\n",
       "      <td>-0.994</td>\n",
       "      <td>0.000360</td>\n",
       "      <td>NaN</td>\n",
       "      <td>NaN</td>\n",
       "      <td>NaN</td>\n",
       "    </tr>\n",
       "    <tr>\n",
       "      <td>1</td>\n",
       "      <td>0.001</td>\n",
       "      <td>0.000320</td>\n",
       "      <td>-0.994</td>\n",
       "      <td>-0.000082</td>\n",
       "      <td>NaN</td>\n",
       "      <td>NaN</td>\n",
       "      <td>NaN</td>\n",
       "    </tr>\n",
       "    <tr>\n",
       "      <td>2</td>\n",
       "      <td>0.002</td>\n",
       "      <td>0.000015</td>\n",
       "      <td>-0.994</td>\n",
       "      <td>-0.000472</td>\n",
       "      <td>NaN</td>\n",
       "      <td>NaN</td>\n",
       "      <td>NaN</td>\n",
       "    </tr>\n",
       "    <tr>\n",
       "      <td>3</td>\n",
       "      <td>0.003</td>\n",
       "      <td>0.000745</td>\n",
       "      <td>-0.994</td>\n",
       "      <td>-0.000171</td>\n",
       "      <td>NaN</td>\n",
       "      <td>NaN</td>\n",
       "      <td>NaN</td>\n",
       "    </tr>\n",
       "    <tr>\n",
       "      <td>4</td>\n",
       "      <td>0.004</td>\n",
       "      <td>0.000455</td>\n",
       "      <td>0.083</td>\n",
       "      <td>0.000340</td>\n",
       "      <td>NaN</td>\n",
       "      <td>NaN</td>\n",
       "      <td>NaN</td>\n",
       "    </tr>\n",
       "  </tbody>\n",
       "</table>\n",
       "</div>"
      ],
      "text/plain": [
       "   Time (s) Run #1   Voltage   Ch A (V) Run #1  Output Voltage  \\\n",
       "0            0.000  0.000247            -0.994        0.000360   \n",
       "1            0.001  0.000320            -0.994       -0.000082   \n",
       "2            0.002  0.000015            -0.994       -0.000472   \n",
       "3            0.003  0.000745            -0.994       -0.000171   \n",
       "4            0.004  0.000455             0.083        0.000340   \n",
       "\n",
       "    Ch O1 (V) Run #1  Output Current   Ch O1 (A) Run #1  \n",
       "0                NaN             NaN                NaN  \n",
       "1                NaN             NaN                NaN  \n",
       "2                NaN             NaN                NaN  \n",
       "3                NaN             NaN                NaN  \n",
       "4                NaN             NaN                NaN  "
      ]
     },
     "execution_count": 11,
     "metadata": {},
     "output_type": "execute_result"
    }
   ],
   "source": [
    "from scipy import fft\n",
    "import matplotlib.pyplot as plt\n",
    "import numpy as np\n",
    "import pandas as pd\n",
    "obj = pd.read_csv('fork114.csv')\n",
    "obj.head()"
   ]
  },
  {
   "cell_type": "code",
   "execution_count": 18,
   "metadata": {},
   "outputs": [
    {
     "data": {
      "image/png": "[encoded data removed]",
      "text/plain": [
       "<Figure size 432x288 with 1 Axes>"
      ]
     },
     "metadata": {
      "needs_background": "light"
     },
     "output_type": "display_data"
    }
   ],
   "source": [
    "width = 2.0\n",
    "freq = 0.5\n",
    "t = np.array(obj[\"Time (s) Run #1\"])\n",
    "data= np.array(obj[\" Ch A (V) Run #1\"])\n",
    "T = 0.001\n",
    "N = len(data)\n",
    "yf = fft(data)\n",
    "xf = np.linspace(0.0, 1.0/(2.0*T), N//2)\n",
    "plt.plot(xf, 2.0/N * np.abs(yf[0:N//2]))\n",
    "plt.title(\"114 Tuning Fork\")\n",
    "plt.xlabel(\"Frequency\")\n",
    "plt.ylabel(\"Intensity\")\n",
    "plt.grid()\n",
    "plt.show()"
   ]
  },
  {
   "cell_type": "code",
   "execution_count": null,
   "metadata": {},
   "outputs": [],
   "source": []
  }
 ],
 "metadata": {
  "kernelspec": {
   "display_name": "Python 3",
   "language": "python",
   "name": "python3"
  },
  "language_info": {
   "codemirror_mode": {
    "name": "ipython",
    "version": 3
   },
   "file_extension": ".py",
   "mimetype": "text/x-python",
   "name": "python",
   "nbconvert_exporter": "python",
   "pygments_lexer": "ipython3",
   "version": "3.7.4"
  }
 },
 "nbformat": 4,
 "nbformat_minor": 2
}
