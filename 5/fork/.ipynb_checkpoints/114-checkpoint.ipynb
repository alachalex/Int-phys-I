{
 "cells": [
  {
   "cell_type": "code",
   "execution_count": 2,
   "metadata": {},
   "outputs": [
    {
     "data": {
      "text/html": [
       "<div>\n",
       "<style scoped>\n",
       "    .dataframe tbody tr th:only-of-type {\n",
       "        vertical-align: middle;\n",
       "    }\n",
       "\n",
       "    .dataframe tbody tr th {\n",
       "        vertical-align: top;\n",
       "    }\n",
       "\n",
       "    .dataframe thead th {\n",
       "        text-align: right;\n",
       "    }\n",
       "</style>\n",
       "<table border=\"1\" class=\"dataframe\">\n",
       "  <thead>\n",
       "    <tr style=\"text-align: right;\">\n",
       "      <th></th>\n",
       "      <th>Time (s) Run #1</th>\n",
       "      <th>Voltage</th>\n",
       "      <th>Ch A (V) Run #1</th>\n",
       "      <th>Output Voltage</th>\n",
       "      <th>Ch O1 (V) Run #1</th>\n",
       "      <th>Output Current</th>\n",
       "      <th>Ch O1 (A) Run #1</th>\n",
       "    </tr>\n",
       "  </thead>\n",
       "  <tbody>\n",
       "    <tr>\n",
       "      <td>0</td>\n",
       "      <td>0.000</td>\n",
       "      <td>0.000247</td>\n",
       "      <td>-0.994</td>\n",
       "      <td>0.000360</td>\n",
       "      <td>NaN</td>\n",
       "      <td>NaN</td>\n",
       "      <td>NaN</td>\n",
       "    </tr>\n",
       "    <tr>\n",
       "      <td>1</td>\n",
       "      <td>0.001</td>\n",
       "      <td>0.000320</td>\n",
       "      <td>-0.994</td>\n",
       "      <td>-0.000082</td>\n",
       "      <td>NaN</td>\n",
       "      <td>NaN</td>\n",
       "      <td>NaN</td>\n",
       "    </tr>\n",
       "    <tr>\n",
       "      <td>2</td>\n",
       "      <td>0.002</td>\n",
       "      <td>0.000015</td>\n",
       "      <td>-0.994</td>\n",
       "      <td>-0.000472</td>\n",
       "      <td>NaN</td>\n",
       "      <td>NaN</td>\n",
       "      <td>NaN</td>\n",
       "    </tr>\n",
       "    <tr>\n",
       "      <td>3</td>\n",
       "      <td>0.003</td>\n",
       "      <td>0.000745</td>\n",
       "      <td>-0.994</td>\n",
       "      <td>-0.000171</td>\n",
       "      <td>NaN</td>\n",
       "      <td>NaN</td>\n",
       "      <td>NaN</td>\n",
       "    </tr>\n",
       "    <tr>\n",
       "      <td>4</td>\n",
       "      <td>0.004</td>\n",
       "      <td>0.000455</td>\n",
       "      <td>0.083</td>\n",
       "      <td>0.000340</td>\n",
       "      <td>NaN</td>\n",
       "      <td>NaN</td>\n",
       "      <td>NaN</td>\n",
       "    </tr>\n",
       "  </tbody>\n",
       "</table>\n",
       "</div>"
      ],
      "text/plain": [
       "   Time (s) Run #1   Voltage   Ch A (V) Run #1  Output Voltage  \\\n",
       "0            0.000  0.000247            -0.994        0.000360   \n",
       "1            0.001  0.000320            -0.994       -0.000082   \n",
       "2            0.002  0.000015            -0.994       -0.000472   \n",
       "3            0.003  0.000745            -0.994       -0.000171   \n",
       "4            0.004  0.000455             0.083        0.000340   \n",
       "\n",
       "    Ch O1 (V) Run #1  Output Current   Ch O1 (A) Run #1  \n",
       "0                NaN             NaN                NaN  \n",
       "1                NaN             NaN                NaN  \n",
       "2                NaN             NaN                NaN  \n",
       "3                NaN             NaN                NaN  \n",
       "4                NaN             NaN                NaN  "
      ]
     },
     "execution_count": 2,
     "metadata": {},
     "output_type": "execute_result"
    }
   ],
   "source": [
    "from scipy import fftpack\n",
    "import matplotlib.pyplot as plt\n",
    "import numpy as np\n",
    "import pandas as pd\n",
    "obj = pd.read_csv('fork114.csv')\n",
    "obj.head()"
   ]
  },
  {
   "cell_type": "code",
   "execution_count": 5,
   "metadata": {},
   "outputs": [
    {
     "data": {
      "image/png": "[encoded data removed]",
      "text/plain": [
       "<Figure size 576x432 with 1 Axes>"
      ]
     },
     "metadata": {
      "needs_background": "light"
     },
     "output_type": "display_data"
    }
   ],
   "source": [
    "width = 2.0\n",
    "freq = 0.5\n",
    "t = np.array(obj[\"Time (s) Run #1\"])\n",
    "g = np.array(obj[\" Ch A (V) Run #1\"])\n",
    "dt = 0.001\n",
    "G = fftpack.fft(g) # FFT of g\n",
    "f = fftpack.fftfreq(g.size, d=dt) # frequenies f[i] of g[i]\n",
    "f = fftpack.fftshift(f) # shift frequencies from min to max\n",
    "G = fftpack.fftshift(G) # shift G order to coorespond to f\n",
    "fig = plt.figure(1, figsize=(8,6), frameon=False)\n",
    "ax1 = fig.add_subplot(211)\n",
    "ax1.plot(g, t)\n",
    "ax1.set_xlabel(\"Time\")\n",
    "ax1.set_ylabel(\"Frequencies\")\n",
    "ax2 = fig.add_subplot(212)\n",
    "ax2.plot(f, np.real(G), color=’dodgerblue’, label=’real part’)\n",
    "ax2.plot(f, np.imag(G), color=’coral’, label=’imaginary part’)\n",
    "ax2.legend()\n",
    "ax2.set_xlabel(’f’)\n",
    "ax2.set_ylabel(’G(f)’)\n",
    "plt.show()"
   ]
  },
  {
   "cell_type": "code",
   "execution_count": null,
   "metadata": {},
   "outputs": [],
   "source": []
  }
 ],
 "metadata": {
  "kernelspec": {
   "display_name": "Python 3",
   "language": "python",
   "name": "python3"
  },
  "language_info": {
   "codemirror_mode": {
    "name": "ipython",
    "version": 3
   },
   "file_extension": ".py",
   "mimetype": "text/x-python",
   "name": "python",
   "nbconvert_exporter": "python",
   "pygments_lexer": "ipython3",
   "version": "3.7.4"
  }
 },
 "nbformat": 4,
 "nbformat_minor": 2
}
