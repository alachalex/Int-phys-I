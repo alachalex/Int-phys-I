{
 "cells": [
  {
   "cell_type": "code",
   "execution_count": 1,
   "metadata": {},
   "outputs": [],
   "source": [
    "from scipy import fft\n",
    "import matplotlib.pyplot as plt\n",
    "import numpy as np\n",
    "import pandas as pd\n",
    "first = pd.read_csv('vs1.csv')\n",
    "second = pd.read_csv('v2s.csv')\n",
    "third = pd.read_csv('v3.csv')"
   ]
  },
  {
   "cell_type": "code",
   "execution_count": 2,
   "metadata": {},
   "outputs": [
    {
     "data": {
      "text/html": [
       "<div>\n",
       "<style scoped>\n",
       "    .dataframe tbody tr th:only-of-type {\n",
       "        vertical-align: middle;\n",
       "    }\n",
       "\n",
       "    .dataframe tbody tr th {\n",
       "        vertical-align: top;\n",
       "    }\n",
       "\n",
       "    .dataframe thead th {\n",
       "        text-align: right;\n",
       "    }\n",
       "</style>\n",
       "<table border=\"1\" class=\"dataframe\">\n",
       "  <thead>\n",
       "    <tr style=\"text-align: right;\">\n",
       "      <th></th>\n",
       "      <th>Time (s) Run #1</th>\n",
       "      <th>Voltage</th>\n",
       "      <th>Ch A (V) Run #1</th>\n",
       "      <th>Output Voltage</th>\n",
       "      <th>Ch O1 (V) Run #1</th>\n",
       "      <th>Output Current</th>\n",
       "      <th>Ch O1 (A) Run #1</th>\n",
       "    </tr>\n",
       "  </thead>\n",
       "  <tbody>\n",
       "    <tr>\n",
       "      <td>0</td>\n",
       "      <td>0.000</td>\n",
       "      <td>0.000527</td>\n",
       "      <td>-0.994</td>\n",
       "      <td>0.000202</td>\n",
       "      <td>NaN</td>\n",
       "      <td>NaN</td>\n",
       "      <td>NaN</td>\n",
       "    </tr>\n",
       "    <tr>\n",
       "      <td>1</td>\n",
       "      <td>0.001</td>\n",
       "      <td>0.000698</td>\n",
       "      <td>-0.994</td>\n",
       "      <td>0.000169</td>\n",
       "      <td>NaN</td>\n",
       "      <td>NaN</td>\n",
       "      <td>NaN</td>\n",
       "    </tr>\n",
       "    <tr>\n",
       "      <td>2</td>\n",
       "      <td>0.002</td>\n",
       "      <td>0.000954</td>\n",
       "      <td>-0.994</td>\n",
       "      <td>0.000067</td>\n",
       "      <td>NaN</td>\n",
       "      <td>NaN</td>\n",
       "      <td>NaN</td>\n",
       "    </tr>\n",
       "    <tr>\n",
       "      <td>3</td>\n",
       "      <td>0.003</td>\n",
       "      <td>0.000614</td>\n",
       "      <td>-0.994</td>\n",
       "      <td>-0.000084</td>\n",
       "      <td>NaN</td>\n",
       "      <td>NaN</td>\n",
       "      <td>NaN</td>\n",
       "    </tr>\n",
       "    <tr>\n",
       "      <td>4</td>\n",
       "      <td>0.004</td>\n",
       "      <td>0.000869</td>\n",
       "      <td>0.112</td>\n",
       "      <td>-0.000087</td>\n",
       "      <td>NaN</td>\n",
       "      <td>NaN</td>\n",
       "      <td>NaN</td>\n",
       "    </tr>\n",
       "  </tbody>\n",
       "</table>\n",
       "</div>"
      ],
      "text/plain": [
       "   Time (s) Run #1   Voltage   Ch A (V) Run #1  Output Voltage  \\\n",
       "0            0.000  0.000527            -0.994        0.000202   \n",
       "1            0.001  0.000698            -0.994        0.000169   \n",
       "2            0.002  0.000954            -0.994        0.000067   \n",
       "3            0.003  0.000614            -0.994       -0.000084   \n",
       "4            0.004  0.000869             0.112       -0.000087   \n",
       "\n",
       "    Ch O1 (V) Run #1  Output Current   Ch O1 (A) Run #1  \n",
       "0                NaN             NaN                NaN  \n",
       "1                NaN             NaN                NaN  \n",
       "2                NaN             NaN                NaN  \n",
       "3                NaN             NaN                NaN  \n",
       "4                NaN             NaN                NaN  "
      ]
     },
     "execution_count": 2,
     "metadata": {},
     "output_type": "execute_result"
    }
   ],
   "source": [
    "first.head()\n",
    "second.head()\n",
    "third.head()"
   ]
  },
  {
   "cell_type": "code",
   "execution_count": 4,
   "metadata": {},
   "outputs": [
    {
     "data": {
      "image/png": "[encoded data removed]",
      "text/plain": [
       "<Figure size 432x288 with 1 Axes>"
      ]
     },
     "metadata": {
      "needs_background": "light"
     },
     "output_type": "display_data"
    }
   ],
   "source": [
    "data= np.array(first[\" Ch A (V) Run #1\"])\n",
    "T = 0.001\n",
    "N = len(data)\n",
    "yf = fft(data)\n",
    "xf = np.linspace(0.0, 1.0/(2.0*T), N//2)\n",
    "plt.plot(xf, 2.0/N * np.abs(yf[0:N//2]))\n",
    "plt.title(\"First String of the violin\")\n",
    "plt.xlabel(\"Frequency\")\n",
    "plt.ylabel(\"Intensity\")\n",
    "plt.grid()\n",
    "plt.show()"
   ]
  },
  {
   "cell_type": "code",
   "execution_count": 5,
   "metadata": {},
   "outputs": [
    {
     "data": {
      "image/png": "[encoded data removed]",
      "text/plain": [
       "<Figure size 432x288 with 1 Axes>"
      ]
     },
     "metadata": {
      "needs_background": "light"
     },
     "output_type": "display_data"
    }
   ],
   "source": [
    "data= np.array(second[\" Ch A (V) Run #1\"])\n",
    "T = 0.001\n",
    "N = len(data)\n",
    "yf = fft(data)\n",
    "xf = np.linspace(0.0, 1.0/(2.0*T), N//2)\n",
    "plt.plot(xf, 2.0/N * np.abs(yf[0:N//2]))\n",
    "plt.title(\"Second String of the violin\")\n",
    "plt.xlabel(\"Frequency\")\n",
    "plt.ylabel(\"Intensity\")\n",
    "plt.grid()\n",
    "plt.show()"
   ]
  },
  {
   "cell_type": "code",
   "execution_count": null,
   "metadata": {},
   "outputs": [],
   "source": []
  }
 ],
 "metadata": {
  "kernelspec": {
   "display_name": "Python 3",
   "language": "python",
   "name": "python3"
  },
  "language_info": {
   "codemirror_mode": {
    "name": "ipython",
    "version": 3
   },
   "file_extension": ".py",
   "mimetype": "text/x-python",
   "name": "python",
   "nbconvert_exporter": "python",
   "pygments_lexer": "ipython3",
   "version": "3.7.4"
  }
 },
 "nbformat": 4,
 "nbformat_minor": 2
}
